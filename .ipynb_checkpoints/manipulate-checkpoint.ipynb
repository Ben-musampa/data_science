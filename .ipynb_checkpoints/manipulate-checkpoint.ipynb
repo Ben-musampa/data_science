{
 "cells": [
  {
   "cell_type": "markdown",
   "id": "f964e62d-766a-44ce-8647-3a4e2ca2e4d2",
   "metadata": {},
   "source": [
    "### upload dataset and read data whit pandas"
   ]
  },
  {
   "cell_type": "code",
   "execution_count": 1,
   "id": "2e128d5b-4ea0-4c4e-be32-094662d19e2c",
   "metadata": {},
   "outputs": [],
   "source": [
    "# import library and modules for data manipulation\n",
    "import pandas as pd\n",
    "import numpy as np\n",
    "import matplotlib.pyplot as plt"
   ]
  },
  {
   "cell_type": "code",
   "execution_count": null,
   "id": "90250e00-3fea-41dc-abba-78f9cd0d0865",
   "metadata": {},
   "outputs": [],
   "source": []
  }
 ],
 "metadata": {
  "kernelspec": {
   "display_name": "Python 3 (ipykernel)",
   "language": "python",
   "name": "python3"
  },
  "language_info": {
   "codemirror_mode": {
    "name": "ipython",
    "version": 3
   },
   "file_extension": ".py",
   "mimetype": "text/x-python",
   "name": "python",
   "nbconvert_exporter": "python",
   "pygments_lexer": "ipython3",
   "version": "3.13.1"
  }
 },
 "nbformat": 4,
 "nbformat_minor": 5
}
