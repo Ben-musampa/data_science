{
 "cells": [
  {
   "cell_type": "markdown",
   "id": "f55fe53c-b2b3-434f-b5b8-4469cb77882d",
   "metadata": {},
   "source": [
    "# Création d'un pipeline ETL basique\n",
    "Nous allons d'abord créer un fichier csv contenant les données d'études."
   ]
  },
  {
   "cell_type": "code",
   "execution_count": 1,
   "id": "e07603b9-063a-4cd4-a4db-1833aefa09ab",
   "metadata": {},
   "outputs": [],
   "source": [
    "import pandas as pd\n",
    "import names\n",
    "import numpy as np"
   ]
  },
  {
   "cell_type": "code",
   "execution_count": 2,
   "id": "534e3289-e6ca-422f-8da3-ce9e2d935028",
   "metadata": {},
   "outputs": [],
   "source": [
    "person = {\"id\": [i+1 for i in range(50)],\n",
    "          \"names\": [names.get_full_name() for i in range(50)],\n",
    "          \"ages\": list(np.random.randint(low=18, high=35, size=50))\n",
    "         }"
   ]
  },
  {
   "cell_type": "markdown",
   "id": "6849440e-39e8-4091-8060-515a26e57a25",
   "metadata": {},
   "source": [
    "Définir un index pour notre dataframe"
   ]
  },
  {
   "cell_type": "code",
   "execution_count": 11,
   "id": "d39afe5d-72c8-417b-ac63-5d4381c1b494",
   "metadata": {},
   "outputs": [],
   "source": [
    "data.set_index('id', inplace=True)"
   ]
  },
  {
   "cell_type": "code",
   "execution_count": 12,
   "id": "37a349c5-c2d0-427b-ab17-6422f98f9dc2",
   "metadata": {},
   "outputs": [
    {
     "data": {
      "text/html": [
       "<div>\n",
       "<style scoped>\n",
       "    .dataframe tbody tr th:only-of-type {\n",
       "        vertical-align: middle;\n",
       "    }\n",
       "\n",
       "    .dataframe tbody tr th {\n",
       "        vertical-align: top;\n",
       "    }\n",
       "\n",
       "    .dataframe thead th {\n",
       "        text-align: right;\n",
       "    }\n",
       "</style>\n",
       "<table border=\"1\" class=\"dataframe\">\n",
       "  <thead>\n",
       "    <tr style=\"text-align: right;\">\n",
       "      <th></th>\n",
       "      <th>id</th>\n",
       "      <th>names</th>\n",
       "      <th>ages</th>\n",
       "    </tr>\n",
       "  </thead>\n",
       "  <tbody>\n",
       "    <tr>\n",
       "      <th>0</th>\n",
       "      <td>1</td>\n",
       "      <td>Stephen Gehrke</td>\n",
       "      <td>19</td>\n",
       "    </tr>\n",
       "    <tr>\n",
       "      <th>1</th>\n",
       "      <td>2</td>\n",
       "      <td>Carol Brown</td>\n",
       "      <td>33</td>\n",
       "    </tr>\n",
       "    <tr>\n",
       "      <th>2</th>\n",
       "      <td>3</td>\n",
       "      <td>Alonzo Kirkland</td>\n",
       "      <td>27</td>\n",
       "    </tr>\n",
       "    <tr>\n",
       "      <th>3</th>\n",
       "      <td>4</td>\n",
       "      <td>Dorcas Tracy</td>\n",
       "      <td>20</td>\n",
       "    </tr>\n",
       "    <tr>\n",
       "      <th>4</th>\n",
       "      <td>5</td>\n",
       "      <td>Geneva Wilson</td>\n",
       "      <td>24</td>\n",
       "    </tr>\n",
       "  </tbody>\n",
       "</table>\n",
       "</div>"
      ],
      "text/plain": [
       "   id            names  ages\n",
       "0   1   Stephen Gehrke    19\n",
       "1   2      Carol Brown    33\n",
       "2   3  Alonzo Kirkland    27\n",
       "3   4     Dorcas Tracy    20\n",
       "4   5    Geneva Wilson    24"
      ]
     },
     "execution_count": 12,
     "metadata": {},
     "output_type": "execute_result"
    }
   ],
   "source": [
    "data = pd.DataFrame(person)\n",
    "data.head()"
   ]
  },
  {
   "cell_type": "code",
   "execution_count": 13,
   "id": "3303bb23-df2f-4d3f-af16-3fe6e6b9f7ae",
   "metadata": {},
   "outputs": [],
   "source": [
    "data.to_csv(\"data_etl.csv\")"
   ]
  },
  {
   "cell_type": "markdown",
   "id": "39ef52ed-9b09-4943-8e36-9ec17febbcc7",
   "metadata": {},
   "source": [
    "Assure-toi d’avoir les bibliothèques nécessaires en Python : pandas pour manipuler les données et sqlite3 pour créer une base de données SQLite."
   ]
  },
  {
   "cell_type": "markdown",
   "id": "2e2a1224-8f8b-4a14-a04a-9fa8756e7260",
   "metadata": {},
   "source": [
    "## Extraction : Lire les données à partir du fichier CSV."
   ]
  },
  {
   "cell_type": "code",
   "execution_count": 14,
   "id": "2566aa1b-2803-44e9-8850-e6f190d7d6f7",
   "metadata": {},
   "outputs": [
    {
     "data": {
      "text/html": [
       "<div>\n",
       "<style scoped>\n",
       "    .dataframe tbody tr th:only-of-type {\n",
       "        vertical-align: middle;\n",
       "    }\n",
       "\n",
       "    .dataframe tbody tr th {\n",
       "        vertical-align: top;\n",
       "    }\n",
       "\n",
       "    .dataframe thead th {\n",
       "        text-align: right;\n",
       "    }\n",
       "</style>\n",
       "<table border=\"1\" class=\"dataframe\">\n",
       "  <thead>\n",
       "    <tr style=\"text-align: right;\">\n",
       "      <th></th>\n",
       "      <th>Unnamed: 0</th>\n",
       "      <th>id</th>\n",
       "      <th>names</th>\n",
       "      <th>ages</th>\n",
       "    </tr>\n",
       "  </thead>\n",
       "  <tbody>\n",
       "    <tr>\n",
       "      <th>0</th>\n",
       "      <td>0</td>\n",
       "      <td>1</td>\n",
       "      <td>Stephen Gehrke</td>\n",
       "      <td>19</td>\n",
       "    </tr>\n",
       "    <tr>\n",
       "      <th>1</th>\n",
       "      <td>1</td>\n",
       "      <td>2</td>\n",
       "      <td>Carol Brown</td>\n",
       "      <td>33</td>\n",
       "    </tr>\n",
       "    <tr>\n",
       "      <th>2</th>\n",
       "      <td>2</td>\n",
       "      <td>3</td>\n",
       "      <td>Alonzo Kirkland</td>\n",
       "      <td>27</td>\n",
       "    </tr>\n",
       "    <tr>\n",
       "      <th>3</th>\n",
       "      <td>3</td>\n",
       "      <td>4</td>\n",
       "      <td>Dorcas Tracy</td>\n",
       "      <td>20</td>\n",
       "    </tr>\n",
       "    <tr>\n",
       "      <th>4</th>\n",
       "      <td>4</td>\n",
       "      <td>5</td>\n",
       "      <td>Geneva Wilson</td>\n",
       "      <td>24</td>\n",
       "    </tr>\n",
       "  </tbody>\n",
       "</table>\n",
       "</div>"
      ],
      "text/plain": [
       "   Unnamed: 0  id            names  ages\n",
       "0           0   1   Stephen Gehrke    19\n",
       "1           1   2      Carol Brown    33\n",
       "2           2   3  Alonzo Kirkland    27\n",
       "3           3   4     Dorcas Tracy    20\n",
       "4           4   5    Geneva Wilson    24"
      ]
     },
     "execution_count": 14,
     "metadata": {},
     "output_type": "execute_result"
    }
   ],
   "source": [
    "dt = pd.read_csv(\"data_etl.csv\")\n",
    "dt.head()"
   ]
  },
  {
   "cell_type": "markdown",
   "id": "18ea4ccd-7ffc-4533-a33b-0aee83fa7047",
   "metadata": {},
   "source": [
    "## Transformation : Ajouter une nouvelle colonne age_category en fonction de l'âge."
   ]
  },
  {
   "cell_type": "code",
   "execution_count": 17,
   "id": "160a9cf5-ddc7-4dc5-bda1-9c9d9c8c5b17",
   "metadata": {},
   "outputs": [
    {
     "data": {
      "text/html": [
       "<div>\n",
       "<style scoped>\n",
       "    .dataframe tbody tr th:only-of-type {\n",
       "        vertical-align: middle;\n",
       "    }\n",
       "\n",
       "    .dataframe tbody tr th {\n",
       "        vertical-align: top;\n",
       "    }\n",
       "\n",
       "    .dataframe thead th {\n",
       "        text-align: right;\n",
       "    }\n",
       "</style>\n",
       "<table border=\"1\" class=\"dataframe\">\n",
       "  <thead>\n",
       "    <tr style=\"text-align: right;\">\n",
       "      <th></th>\n",
       "      <th>id</th>\n",
       "      <th>names</th>\n",
       "      <th>ages</th>\n",
       "      <th>age_category</th>\n",
       "    </tr>\n",
       "  </thead>\n",
       "  <tbody>\n",
       "    <tr>\n",
       "      <th>0</th>\n",
       "      <td>1</td>\n",
       "      <td>Stephen Gehrke</td>\n",
       "      <td>19</td>\n",
       "      <td>Young</td>\n",
       "    </tr>\n",
       "    <tr>\n",
       "      <th>1</th>\n",
       "      <td>2</td>\n",
       "      <td>Carol Brown</td>\n",
       "      <td>33</td>\n",
       "      <td>Adult</td>\n",
       "    </tr>\n",
       "    <tr>\n",
       "      <th>2</th>\n",
       "      <td>3</td>\n",
       "      <td>Alonzo Kirkland</td>\n",
       "      <td>27</td>\n",
       "      <td>Adult</td>\n",
       "    </tr>\n",
       "    <tr>\n",
       "      <th>3</th>\n",
       "      <td>4</td>\n",
       "      <td>Dorcas Tracy</td>\n",
       "      <td>20</td>\n",
       "      <td>Young</td>\n",
       "    </tr>\n",
       "    <tr>\n",
       "      <th>4</th>\n",
       "      <td>5</td>\n",
       "      <td>Geneva Wilson</td>\n",
       "      <td>24</td>\n",
       "      <td>Young</td>\n",
       "    </tr>\n",
       "  </tbody>\n",
       "</table>\n",
       "</div>"
      ],
      "text/plain": [
       "   id            names  ages age_category\n",
       "0   1   Stephen Gehrke    19        Young\n",
       "1   2      Carol Brown    33        Adult\n",
       "2   3  Alonzo Kirkland    27        Adult\n",
       "3   4     Dorcas Tracy    20        Young\n",
       "4   5    Geneva Wilson    24        Young"
      ]
     },
     "execution_count": 17,
     "metadata": {},
     "output_type": "execute_result"
    }
   ],
   "source": [
    "def categorize_age(age):\n",
    "    if age < 25:\n",
    "        return 'Young'\n",
    "    elif age < 35:\n",
    "        return 'Adult'\n",
    "    else:\n",
    "        return 'Senior'\n",
    "\n",
    "data['age_category'] = data['ages'].apply(categorize_age)\n",
    "data.head()"
   ]
  },
  {
   "cell_type": "markdown",
   "id": "ef10f5e4-14bf-43bb-bf3b-9b54091b17d3",
   "metadata": {},
   "source": [
    "## Chargement : Charger les données transformées dans une base de données SQLite."
   ]
  },
  {
   "cell_type": "code",
   "execution_count": 18,
   "id": "b528054b-7aca-4a82-966e-83bcde7518c4",
   "metadata": {},
   "outputs": [],
   "source": [
    "import sqlite3"
   ]
  },
  {
   "cell_type": "code",
   "execution_count": 19,
   "id": "95fb2b7c-8a8c-45ec-bedf-662670b968cb",
   "metadata": {},
   "outputs": [
    {
     "name": "stdout",
     "output_type": "stream",
     "text": [
      "\n",
      "Données chargées dans la base SQLite\n"
     ]
    }
   ],
   "source": [
    "# Connexion à la base de données\n",
    "conn = sqlite3.connect('example.db')\n",
    "data.to_sql('users', conn, if_exists='replace', index=False)\n",
    "\n",
    "print(\"\\nDonnées chargées dans la base SQLite\")"
   ]
  },
  {
   "cell_type": "markdown",
   "id": "988f58dd-7097-44dd-9bb8-cc8c412032d9",
   "metadata": {},
   "source": [
    "## Validation : Vérifie que les données sont bien chargées."
   ]
  },
  {
   "cell_type": "code",
   "execution_count": 20,
   "id": "d93b92c4-740e-4dc9-88ae-4f64da49d485",
   "metadata": {},
   "outputs": [
    {
     "name": "stdout",
     "output_type": "stream",
     "text": [
      "\n",
      "Données dans la base de données :\n",
      "    id                 names  ages age_category\n",
      "0    1        Stephen Gehrke    19        Young\n",
      "1    2           Carol Brown    33        Adult\n",
      "2    3       Alonzo Kirkland    27        Adult\n",
      "3    4          Dorcas Tracy    20        Young\n",
      "4    5         Geneva Wilson    24        Young\n",
      "5    6       Aubrey Williams    22        Young\n",
      "6    7        William Schick    28        Adult\n",
      "7    8           John Sigler    23        Young\n",
      "8    9    Florencio Jellison    30        Adult\n",
      "9   10     Matilda Guillaume    33        Adult\n",
      "10  11           Susan Jones    26        Adult\n",
      "11  12      Georgia Anderson    30        Adult\n",
      "12  13       Lourdes Brazile    18        Young\n",
      "13  14        Lillie Manahan    24        Young\n",
      "14  15          Annie Colvin    25        Adult\n",
      "15  16          Betty Lester    26        Adult\n",
      "16  17          Carolyn Knox    22        Young\n",
      "17  18          Patrick Gate    21        Young\n",
      "18  19          Thomas Kelly    18        Young\n",
      "19  20     Elizabeth Futrell    31        Adult\n",
      "20  21           Steven Bush    32        Adult\n",
      "21  22      Joshua Bollinger    29        Adult\n",
      "22  23        Patrice Hester    29        Adult\n",
      "23  24        William Hamler    24        Young\n",
      "24  25        Karen Langford    24        Young\n",
      "25  26        Joseph Collins    31        Adult\n",
      "26  27        Roger Campbell    29        Adult\n",
      "27  28         Richard Smith    34        Adult\n",
      "28  29           Irene Lingo    23        Young\n",
      "29  30            Shayna Sam    26        Adult\n",
      "30  31         Antony Watson    21        Young\n",
      "31  32          Tony Pacheco    28        Adult\n",
      "32  33            Lupe Davis    23        Young\n",
      "33  34      Mildred Marshall    25        Adult\n",
      "34  35           Kevin Hardy    28        Adult\n",
      "35  36      Michael Blackmon    33        Adult\n",
      "36  37        Maggie Sanchez    27        Adult\n",
      "37  38           Glen Delapp    22        Young\n",
      "38  39          Brian Blanco    23        Young\n",
      "39  40    Katherine Ocegueda    27        Adult\n",
      "40  41         Rudolph Gwinn    34        Adult\n",
      "41  42           Keith Nicol    20        Young\n",
      "42  43        Angela Ramirez    23        Young\n",
      "43  44        Megan Crockett    20        Young\n",
      "44  45     Michael Lorenzana    31        Adult\n",
      "45  46        Laura Devereux    31        Adult\n",
      "46  47            Jody Hicks    22        Young\n",
      "47  48  Christina Sutherland    18        Young\n",
      "48  49        Shane Striegel    26        Adult\n",
      "49  50      Reginald Cordova    19        Young\n"
     ]
    }
   ],
   "source": [
    "# Vérification\n",
    "result = pd.read_sql(\"SELECT * FROM users\", conn)\n",
    "print(\"\\nDonnées dans la base de données :\")\n",
    "print(result)\n",
    "conn.close()"
   ]
  },
  {
   "cell_type": "code",
   "execution_count": null,
   "id": "d75c7475-ad45-4fa4-9329-a778bc19c626",
   "metadata": {},
   "outputs": [],
   "source": []
  }
 ],
 "metadata": {
  "kernelspec": {
   "display_name": "Python 3 (ipykernel)",
   "language": "python",
   "name": "python3"
  },
  "language_info": {
   "codemirror_mode": {
    "name": "ipython",
    "version": 3
   },
   "file_extension": ".py",
   "mimetype": "text/x-python",
   "name": "python",
   "nbconvert_exporter": "python",
   "pygments_lexer": "ipython3",
   "version": "3.13.1"
  }
 },
 "nbformat": 4,
 "nbformat_minor": 5
}
